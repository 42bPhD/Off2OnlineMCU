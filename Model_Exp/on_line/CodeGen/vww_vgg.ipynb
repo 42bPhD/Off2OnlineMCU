{
 "cells": [
  {
   "cell_type": "code",
   "execution_count": 1,
   "metadata": {},
   "outputs": [],
   "source": [
    "import torch\n",
    "import argparse\n",
    "from torchsummary import summary\n",
    "import os\n",
    "from utils.dataloaders import get_dataloader, get_subnet_dataloader\n",
    "from utils.train_eval import evaluate\n",
    "from utils.functions import reconstruction_model\n",
    "from utils.io import load_weights\n",
    "from vww_model import mobilenet_v1\n",
    "\n",
    "from bn_fold import bn_fold\n",
    "from torch import nn\n",
    "from fxpmath import Fxp"
   ]
  },
  {
   "cell_type": "code",
   "execution_count": 2,
   "metadata": {},
   "outputs": [],
   "source": [
    "model_ckpt = \"./weights/mcu_vggrepc1_vww.pth\"\n",
    "data_dir = \"E:/1_TinyML/tiny/benchmark/training/visual_wake_words/vw_coco2014_96\"\n",
    "image_size = 96\n",
    "workers = 4\n",
    "batch_size = 50\n",
    "from model_q import MCU_VGGRep, MCU_VGGRepC1"
   ]
  },
  {
   "cell_type": "code",
   "execution_count": 3,
   "metadata": {},
   "outputs": [
    {
     "name": "stdout",
     "output_type": "stream",
     "text": [
      "MCU_VGGRepC1(\n",
      "  (quant): QuantStub()\n",
      "  (STAGE0_CONV): Conv2d(3, 16, kernel_size=(3, 3), stride=(2, 2), padding=(1, 1))\n",
      "  (STAGE0_RELU): ReLU()\n",
      "  (STAGE1_0_CONV): Conv2d(16, 16, kernel_size=(3, 3), stride=(2, 2), padding=(1, 1))\n",
      "  (STAGE1_0_RELU): ReLU()\n",
      "  (STAGE2_0_CONV): Conv2d(16, 32, kernel_size=(3, 3), stride=(2, 2), padding=(1, 1))\n",
      "  (STAGE2_0_RELU): ReLU()\n",
      "  (STAGE3_0_CONV): Conv2d(32, 64, kernel_size=(3, 3), stride=(2, 2), padding=(1, 1))\n",
      "  (STAGE3_0_RELU): ReLU()\n",
      "  (STAGE4_0_CONV): Conv2d(64, 128, kernel_size=(3, 3), stride=(2, 2), padding=(1, 1))\n",
      "  (STAGE4_0_RELU): ReLU()\n",
      "  (GAP21): AdaptiveAvgPool2d(output_size=1)\n",
      "  (FLATTEN22): Flatten(start_dim=1, end_dim=-1)\n",
      "  (LINEAR): Linear(in_features=128, out_features=2, bias=True)\n",
      "  (dequant): DeQuantStub()\n",
      ")\n"
     ]
    }
   ],
   "source": [
    "model = MCU_VGGRepC1()\n",
    "model = load_weights(model, model_ckpt)\n",
    "print(model)"
   ]
  },
  {
   "cell_type": "code",
   "execution_count": 4,
   "metadata": {},
   "outputs": [],
   "source": [
    "val_loader = get_subnet_dataloader(data_dir, 1000, batch_size, image_size, workers)\n"
   ]
  },
  {
   "cell_type": "code",
   "execution_count": 5,
   "metadata": {},
   "outputs": [
    {
     "name": "stderr",
     "output_type": "stream",
     "text": [
      "                                                     "
     ]
    },
    {
     "name": "stdout",
     "output_type": "stream",
     "text": [
      "Before accuracy: 86.10% MAC+BN=4,313,472\n"
     ]
    },
    {
     "name": "stderr",
     "output_type": "stream",
     "text": [
      "\r"
     ]
    }
   ],
   "source": [
    "device = torch.device(\"cuda:0\" if torch.cuda.is_available() else \"cpu\")    \n",
    "from utils.train_eval import get_accuracy\n",
    "from utils.utils import count_net_flops\n",
    "print(f\"Before accuracy: {get_accuracy(model.to(device), val_loader):.2f}%\",\n",
    "        f\"MAC+BN={count_net_flops(model, (1, 3, image_size, image_size), False):,}\")\n",
    "# flatten_model = reconstruction_model(model, device)\n"
   ]
  },
  {
   "cell_type": "code",
   "execution_count": 6,
   "metadata": {},
   "outputs": [
    {
     "name": "stdout",
     "output_type": "stream",
     "text": [
      "MCU_VGGRepC1(\n",
      "  (quant): QuantStub()\n",
      "  (STAGE0_CONV): Conv2d(3, 16, kernel_size=(3, 3), stride=(2, 2), padding=(1, 1))\n",
      "  (STAGE0_RELU): ReLU()\n",
      "  (STAGE1_0_CONV): Conv2d(16, 16, kernel_size=(3, 3), stride=(2, 2), padding=(1, 1))\n",
      "  (STAGE1_0_RELU): ReLU()\n",
      "  (STAGE2_0_CONV): Conv2d(16, 32, kernel_size=(3, 3), stride=(2, 2), padding=(1, 1))\n",
      "  (STAGE2_0_RELU): ReLU()\n",
      "  (STAGE3_0_CONV): Conv2d(32, 64, kernel_size=(3, 3), stride=(2, 2), padding=(1, 1))\n",
      "  (STAGE3_0_RELU): ReLU()\n",
      "  (STAGE4_0_CONV): Conv2d(64, 128, kernel_size=(3, 3), stride=(2, 2), padding=(1, 1))\n",
      "  (STAGE4_0_RELU): ReLU()\n",
      "  (GAP21): AdaptiveAvgPool2d(output_size=1)\n",
      "  (FLATTEN22): Flatten(start_dim=1, end_dim=-1)\n",
      "  (LINEAR): Linear(in_features=128, out_features=2, bias=True)\n",
      "  (dequant): DeQuantStub()\n",
      ")\n"
     ]
    }
   ],
   "source": [
    "\n",
    "model = model.cpu()\n",
    "with torch.no_grad():\n",
    "    get_shape = model.get_shape(batch_size, (3, image_size, image_size))\n",
    "model = model.to(device)\n",
    "\n",
    "\n",
    "# print(f'Pytorch Accuracy: {get_accuracy(model, val_loader)}')\n",
    "\n",
    "vs_proj_path = os.path.join(os.getcwd(), \"CMSIS_NN_PC_simulator/Deploy_Simulator\")\n",
    "compilation_bat = os.path.join(os.getcwd(), 'compile.bat')\n",
    "model.eval()\n",
    "print(model)"
   ]
  },
  {
   "cell_type": "code",
   "execution_count": 7,
   "metadata": {},
   "outputs": [
    {
     "name": "stdout",
     "output_type": "stream",
     "text": [
      "STAGE0_CONV n_frac: 7\n",
      "0.59375\n",
      "STAGE0_CONV.weight error: 0.59375\n",
      "STAGE0_CONV.bias error: 18.109375\n",
      "STAGE1_0_CONV n_frac: 7\n",
      "0.0\n",
      "STAGE1_0_CONV.weight error: 0.0\n",
      "STAGE1_0_CONV.bias error: -32.1640625\n",
      "STAGE2_0_CONV n_frac: 7\n",
      "0.0\n",
      "STAGE2_0_CONV.weight error: 0.0\n",
      "STAGE2_0_CONV.bias error: -10.53125\n",
      "STAGE3_0_CONV n_frac: 7\n",
      "0.0\n",
      "STAGE3_0_CONV.weight error: 0.0\n",
      "STAGE3_0_CONV.bias error: 52.8125\n",
      "STAGE4_0_CONV n_frac: 7\n",
      "0.0\n",
      "STAGE4_0_CONV.weight error: 0.0\n",
      "STAGE4_0_CONV.bias error: 114.7421875\n",
      "LINEAR.weight error: 0.0\n",
      "LINEAR.bias error: 0.0\n"
     ]
    }
   ],
   "source": [
    "from collections import OrderedDict\n",
    "import numpy as np\n",
    "import matplotlib.pyplot as plt\n",
    "import copy\n",
    "%matplotlib inline\n",
    "q_param = OrderedDict()\n",
    "q_model = copy.deepcopy(model).cpu()\n",
    "for name, modules in model.named_modules():\n",
    "    fxp_ref = Fxp(None, signed=True, n_word=8, overflow='saturate')\n",
    "    fxp_ref.config.dtype_notation = 'Q'\n",
    "    fxp_ref.config.op_method = 'repr'\n",
    "    fxp_ref.config.op_out = Fxp(None, True, n_word=8, overflow='saturate')\n",
    "    fxp_ref.config.array_output_type = 'array'\n",
    "    if isinstance(modules, nn.Conv2d):\n",
    "        weight = modules.weight.detach().cpu().numpy()\n",
    "        q_weight = Fxp(weight, like = fxp_ref)\n",
    "        n_int = q_weight.n_int\n",
    "        n_frac = q_weight.n_frac\n",
    "        print(f'{name} n_frac: {n_frac}')\n",
    "        q_weight = q_weight << n_frac # Interger convert\n",
    "        q_weight = q_weight >> n_frac # Fixed point convert\n",
    "        \n",
    "        # q_weight = q_weight.ravel()\n",
    "        # weight = weight.ravel()\n",
    "        # plt.figure(figsize=(18,6))\n",
    "        # plt.scatter(np.arange(len(q_weight)), q_weight, c='r', label=f'Q{n_int}.{n_frac}')\n",
    "        # plt.scatter(np.arange(len(weight)), weight, c='b', label=f'Original')\n",
    "        # plt.legend()\n",
    "        # plt.show()\n",
    "        print((q_weight - weight).sum())\n",
    "        # break\n",
    "        q_model.state_dict()[f'{name}.weight'].copy_(torch.Tensor((np.array(q_weight))))\n",
    "        # print(q_model.state_dict()[f'{name}.weight'])\n",
    "        q_param[f'{name}.weight'] = (n_int, n_frac)\n",
    "        # print(torch.IntTensor(np.array(q_weight)))\n",
    "        \n",
    "        # print(q_model.state_dict()[f'{name}.weight'])\n",
    "        # model[name].weight = torch.Tensor(np.array(q_weight))\n",
    "        print(f'{name}.weight error: {(q_weight - weight).sum()}')\n",
    "        if modules.bias is not None:\n",
    "            bias = modules.bias.detach().cpu().numpy()\n",
    "            q_bias = Fxp(bias, like = fxp_ref)\n",
    "            n_int = q_bias.n_int\n",
    "            n_frac = q_bias.n_frac\n",
    "            q_bias = q_bias << n_frac\n",
    "            q_bias = q_bias >> n_frac\n",
    "            \n",
    "            q_model.state_dict()[f'{name}.bias'].copy_(torch.Tensor(np.array(q_bias)))\n",
    "            q_param[f'{name}.bias'] = (n_frac)\n",
    "            print(f'{name}.bias error: {(q_bias - bias).sum()}')\n",
    "            \n",
    "        \n",
    "    elif isinstance(modules, nn.Linear):\n",
    "        weight = modules.weight.detach().cpu().numpy()\n",
    "        q_weight = Fxp(weight, like = fxp_ref)\n",
    "        n_int = q_weight.n_int\n",
    "        n_frac = q_weight.n_frac\n",
    "        q_weight = q_weight << n_frac\n",
    "        q_weight = q_weight >> n_frac\n",
    "        \n",
    "        q_model.state_dict()[f'{name}.weight'].copy_(torch.Tensor(np.array(q_weight)))\n",
    "        q_param[f'{name}.weight'] = (n_frac)\n",
    "        print(f'{name}.weight error: {(q_weight - weight).sum()}')\n",
    "        if modules.bias is not None:\n",
    "            bias = modules.bias.detach().cpu().numpy()\n",
    "            \n",
    "            q_bias = Fxp(bias, like = fxp_ref)\n",
    "            n_int = q_bias.n_int\n",
    "            n_frac = q_bias.n_frac\n",
    "            \n",
    "            q_bias = q_bias << n_frac\n",
    "            q_bias = q_bias >> n_frac\n",
    "            q_model.state_dict()[f'{name}.bias'].copy_(torch.Tensor(np.array(q_bias)))\n",
    "            q_param[f'{name}.bias'] = (n_frac)\n",
    "            print(f'{name}.bias error: {(q_bias - bias).sum()}')\n"
   ]
  },
  {
   "cell_type": "code",
   "execution_count": 8,
   "metadata": {},
   "outputs": [
    {
     "name": "stderr",
     "output_type": "stream",
     "text": [
      "                                                     "
     ]
    },
    {
     "name": "stdout",
     "output_type": "stream",
     "text": [
      "Before accuracy: 51.70% MAC+BN=4,313,472\n"
     ]
    },
    {
     "name": "stderr",
     "output_type": "stream",
     "text": [
      "\r"
     ]
    }
   ],
   "source": [
    "print(f\"Before accuracy: {get_accuracy(q_model.to(device), val_loader):.2f}%\",\n",
    "        f\"MAC+BN={count_net_flops(q_model, (1, 3, image_size, image_size), False):,}\")"
   ]
  },
  {
   "cell_type": "code",
   "execution_count": 9,
   "metadata": {},
   "outputs": [
    {
     "data": {
      "text/plain": [
       "device(type='cuda', index=0)"
      ]
     },
     "execution_count": 9,
     "metadata": {},
     "output_type": "execute_result"
    }
   ],
   "source": [
    "q_model.state_dict()['STAGE0_CONV.weight'].device"
   ]
  },
  {
   "cell_type": "code",
   "execution_count": 10,
   "metadata": {},
   "outputs": [],
   "source": [
    "from tqdm import tqdm\n",
    "from torch.utils.data import DataLoader\n",
    "from utils.train_eval import AverageMeter, ProgressMeter, accuracy\n",
    "import time\n",
    "\n",
    "\n",
    "def input_process(inputs):\n",
    "    if isinstance(inputs, torch.Tensor):\n",
    "        inputs = inputs.cpu().numpy()\n",
    "    inputs = Fxp(inputs, n_word=8, overflow='saturate')\n",
    "    inputs = inputs << 8\n",
    "    return torch.IntTensor(np.array(inputs))\n",
    "    \n",
    "\n",
    "@torch.no_grad()\n",
    "def get_Int_accuracy(model: nn.Module,\n",
    "                    dataloader: DataLoader,\n",
    "                    extra_preprocess = None,\n",
    "                    device:str = 'cuda:0') -> float:\n",
    "    model.eval()\n",
    "    \n",
    "    num_samples = 0\n",
    "    num_correct = 0\n",
    "\n",
    "    for inputs, targets in tqdm(dataloader, desc=\"eval\", leave=False):\n",
    "        # Move the data from CPU to GPU\n",
    "        inputs = inputs.cpu()    \n",
    "        if extra_preprocess is not None:\n",
    "            for preprocess in extra_preprocess:\n",
    "                inputs = preprocess(inputs)\n",
    "\n",
    "    targets = targets.to(device)\n",
    "\n",
    "    # Inference\n",
    "    outputs = model(inputs)\n",
    "\n",
    "    # Convert logits to class indices\n",
    "    outputs = outputs.argmax(dim=1)\n",
    "\n",
    "    # Update metrics\n",
    "    num_samples += targets.size(0)\n",
    "    num_correct += (outputs == targets).sum()\n",
    "\n",
    "    return (num_correct / num_samples * 100).item()\n",
    "\n",
    "def evaluate(dataloader, model, criterion):\n",
    "    batch_time = AverageMeter('Time', ':6.3f')\n",
    "    losses = AverageMeter('Loss', ':.4e')\n",
    "    top1 = AverageMeter('Acc@1', ':6.2f')\n",
    "    top5 = AverageMeter('Acc@5', ':6.2f')\n",
    "    progress = ProgressMeter(\n",
    "        len(dataloader), [batch_time, losses, top1, top5], prefix='Test: ')\n",
    "\n",
    "    # switch to evaluate mode\n",
    "    model.eval()\n",
    "\n",
    "    with torch.no_grad():\n",
    "        end = time.time()\n",
    "        for i, (images, target) in enumerate(dataloader):\n",
    "            model = model.cuda()\n",
    "            images = images.cuda(non_blocking=True)\n",
    "            target = target.cuda(non_blocking=True)\n",
    "\n",
    "            # compute output\n",
    "            output = model(images)\n",
    "            loss = criterion(output, target)\n",
    "\n",
    "            # measure accuracy and record loss\n",
    "            acc1, acc5 = accuracy(output, target, topk=(1, 2))\n",
    "            losses.update(loss.item(), images.size(0))\n",
    "            top1.update(acc1[0], images.size(0))\n",
    "            top5.update(acc5[0], images.size(0))\n",
    "\n",
    "            # measure elapsed time\n",
    "            batch_time.update(time.time() - end)\n",
    "            end = time.time()\n",
    "\n",
    "            if i % 50 == 0:\n",
    "                progress.display(i)\n",
    "\n",
    "        # TODO: this should also be done with the ProgressMeter\n",
    "        print(' * Acc@1 {top1.avg:.3f} Acc@5 {top5.avg:.3f}'.format(\n",
    "            top1=top1, top5=top5))\n",
    "\n",
    "    return top1.avg, top5.avg\n",
    "    \n",
    "                    \n"
   ]
  },
  {
   "cell_type": "code",
   "execution_count": 11,
   "metadata": {},
   "outputs": [
    {
     "name": "stderr",
     "output_type": "stream",
     "text": [
      "c:\\Users\\hci-lab01\\.conda\\envs\\lab\\lib\\site-packages\\torch\\ao\\quantization\\observer.py:214: UserWarning: Please use quant_min and quant_max to specify the range for observers.                     reduce_range will be deprecated in a future release of PyTorch.\n",
      "  warnings.warn(\n"
     ]
    },
    {
     "data": {
      "text/plain": [
       "QConfig(activation=functools.partial(<class 'torch.ao.quantization.observer.HistogramObserver'>, dtype=torch.qint8, qscheme=torch.per_tensor_symmetric, quant_min=-127, quant_max=127, reduce_range=True){}, weight=functools.partial(<class 'torch.ao.quantization.observer.HistogramObserver'>, dtype=torch.qint8, qscheme=torch.per_tensor_symmetric, quant_min=-127, quant_max=127, reduce_range=True){})"
      ]
     },
     "execution_count": 11,
     "metadata": {},
     "output_type": "execute_result"
    }
   ],
   "source": [
    "from torch.quantization import get_default_qconfig, quantize_dynamic, QConfig, HistogramObserver, prepare\n",
    "\n",
    "backend = \"x86\"\n",
    "model.qconfig = QConfig(\n",
    "            activation=HistogramObserver.with_args(\n",
    "                dtype=torch.qint8,\n",
    "                qscheme=torch.per_tensor_symmetric,\n",
    "                quant_min=-127,\n",
    "                quant_max=127,\n",
    "                reduce_range=True),\n",
    "            weight=HistogramObserver.with_args(\n",
    "                dtype=torch.qint8,\n",
    "                qscheme=torch.per_tensor_symmetric,\n",
    "                quant_min=-127,\n",
    "                quant_max=127,\n",
    "                reduce_range=True)\n",
    "            )\n",
    "qmodel = prepare(model, inplace=False)\n",
    "# model.qconfig = torch.quantization.get_default_qconfig(backend)\n",
    "# torch.backends.quantized.engine = backend\n",
    "# model_static_quantized = torch.quantization.prepare(model, inplace=False)\n",
    "# model_static_quantized = torch.quantization.convert(model_static_quantized, inplace=False)\n",
    "model.qconfig"
   ]
  },
  {
   "cell_type": "code",
   "execution_count": 12,
   "metadata": {},
   "outputs": [],
   "source": [
    "cnt = 0\n",
    "\n",
    "qmodel = qmodel.to(device)\n",
    "with torch.inference_mode():\n",
    "  for img, label in val_loader:\n",
    "    img = img.to(device)\n",
    "    label = label.to(device)\n",
    "    if cnt > 10:\n",
    "        break\n",
    "    qmodel(img)"
   ]
  },
  {
   "cell_type": "code",
   "execution_count": 13,
   "metadata": {},
   "outputs": [
    {
     "data": {
      "text/plain": [
       "MCU_VGGRepC1(\n",
       "  (quant): Quantize(scale=tensor([0.0415], device='cuda:0'), zero_point=tensor([0], device='cuda:0'), dtype=torch.qint8)\n",
       "  (STAGE0_CONV): QuantizedConv2d(3, 16, kernel_size=(3, 3), stride=(2, 2), scale=0.7852497696876526, zero_point=0, padding=(1, 1))\n",
       "  (STAGE0_RELU): ReLU()\n",
       "  (STAGE1_0_CONV): QuantizedConv2d(16, 16, kernel_size=(3, 3), stride=(2, 2), scale=1.0230857133865356, zero_point=0, padding=(1, 1))\n",
       "  (STAGE1_0_RELU): ReLU()\n",
       "  (STAGE2_0_CONV): QuantizedConv2d(16, 32, kernel_size=(3, 3), stride=(2, 2), scale=0.7712352871894836, zero_point=0, padding=(1, 1))\n",
       "  (STAGE2_0_RELU): ReLU()\n",
       "  (STAGE3_0_CONV): QuantizedConv2d(32, 64, kernel_size=(3, 3), stride=(2, 2), scale=0.48850923776626587, zero_point=0, padding=(1, 1))\n",
       "  (STAGE3_0_RELU): ReLU()\n",
       "  (STAGE4_0_CONV): QuantizedConv2d(64, 128, kernel_size=(3, 3), stride=(2, 2), scale=0.26422879099845886, zero_point=0, padding=(1, 1))\n",
       "  (STAGE4_0_RELU): ReLU()\n",
       "  (GAP21): AdaptiveAvgPool2d(output_size=1)\n",
       "  (FLATTEN22): Flatten(start_dim=1, end_dim=-1)\n",
       "  (LINEAR): QuantizedLinear(in_features=128, out_features=2, scale=0.03881053254008293, zero_point=0, qscheme=torch.per_tensor_affine)\n",
       "  (dequant): DeQuantize()\n",
       ")"
      ]
     },
     "execution_count": 13,
     "metadata": {},
     "output_type": "execute_result"
    }
   ],
   "source": [
    "qmodel = torch.quantization.convert(qmodel, inplace=True)\n",
    "qmodel\n"
   ]
  },
  {
   "cell_type": "code",
   "execution_count": 14,
   "metadata": {},
   "outputs": [
    {
     "name": "stderr",
     "output_type": "stream",
     "text": [
      "                                                     \r"
     ]
    },
    {
     "data": {
      "text/plain": [
       "79.70000457763672"
      ]
     },
     "execution_count": 14,
     "metadata": {},
     "output_type": "execute_result"
    }
   ],
   "source": [
    "get_accuracy(qmodel, val_loader)"
   ]
  },
  {
   "cell_type": "code",
   "execution_count": 15,
   "metadata": {},
   "outputs": [
    {
     "name": "stdout",
     "output_type": "stream",
     "text": [
      " <class 'model_q.MCU_VGGRepC1'>\n",
      "quant <class 'torch.ao.nn.quantized.modules.Quantize'>\n",
      "STAGE0_CONV <class 'torch.ao.nn.quantized.modules.conv.Conv2d'>\n",
      "STAGE0_RELU <class 'torch.nn.modules.activation.ReLU'>\n",
      "STAGE1_0_CONV <class 'torch.ao.nn.quantized.modules.conv.Conv2d'>\n",
      "STAGE1_0_RELU <class 'torch.nn.modules.activation.ReLU'>\n",
      "STAGE2_0_CONV <class 'torch.ao.nn.quantized.modules.conv.Conv2d'>\n",
      "STAGE2_0_RELU <class 'torch.nn.modules.activation.ReLU'>\n",
      "STAGE3_0_CONV <class 'torch.ao.nn.quantized.modules.conv.Conv2d'>\n",
      "STAGE3_0_RELU <class 'torch.nn.modules.activation.ReLU'>\n",
      "STAGE4_0_CONV <class 'torch.ao.nn.quantized.modules.conv.Conv2d'>\n",
      "STAGE4_0_RELU <class 'torch.nn.modules.activation.ReLU'>\n",
      "GAP21 <class 'torch.nn.modules.pooling.AdaptiveAvgPool2d'>\n",
      "FLATTEN22 <class 'torch.nn.modules.flatten.Flatten'>\n",
      "LINEAR <class 'torch.ao.nn.quantized.modules.linear.Linear'>\n",
      "LINEAR._packed_params <class 'torch.ao.nn.quantized.modules.linear.LinearPackedParams'>\n",
      "dequant <class 'torch.ao.nn.quantized.modules.DeQuantize'>\n"
     ]
    }
   ],
   "source": [
    "from torch.ao.nn.quantized.modules.conv import Conv2d\n",
    "from torch.ao.nn.quantized.modules.linear import Linear\n",
    "qmodel = qmodel.to(device)\n",
    "import numpy as np\n",
    "from collections import defaultdict\n",
    "def ddict():\n",
    "    return defaultdict(ddict)\n",
    "GRAPH = ddict()\n",
    "for name,  modules in qmodel.named_modules():\n",
    "    print(name, type(modules))\n",
    "    if isinstance(modules, Conv2d):\n",
    "        # print(f'{name} weight: {modules.weight()}')\n",
    "        # print(modules.weight().element_size())\n",
    "        # print(modules.scale, modules.zero_point)\n",
    "        # print(modules.weight().int_repr())\n",
    "        GRAPH[name]['scale'] = modules.scale\n",
    "        GRAPH[name]['zero_point'] = modules.zero_point\n",
    "        GRAPH[name]['weight']['float'] = model.state_dict()[f'{name}.weight'].detach().cpu().numpy()\n",
    "        GRAPH[name]['weight']['int'] = modules.weight().detach().cpu()#.int_repr()\n",
    "        \n",
    "        if modules.bias is not None:\n",
    "            GRAPH[name]['bias']['float'] = model.state_dict()[f'{name}.bias'].detach().cpu().numpy()\n",
    "            GRAPH[name]['bias']['qfloat'] = modules.bias().detach().cpu().numpy()\n",
    "            # GRAPH[name]['bias']['int'] = modules.bias().detach().cpu().int_repr().numpy()\n",
    "            GRAPH[name]['bias_scale'] = modules.scale\n",
    "            GRAPH[name]['bias_zero_point'] = modules.zero_point\n",
    "            # print(f'{name} bias: {modules.bias()}')\n",
    "            \n",
    "    elif isinstance(modules, Linear):\n",
    "        # print(modules.weight().element_size())\n",
    "        GRAPH[name]['weight']['int'] = modules.weight().detach().cpu()#.int_repr()\n",
    "        GRAPH[name]['weight']['float'] = model.state_dict()[f'{name}.weight'].detach().cpu().numpy()\n",
    "        GRAPH[name]['scale'] = modules.scale\n",
    "        GRAPH[name]['zero_point'] = modules.zero_point\n",
    "        # print(f'{name} weight: {modules.weight().int_repr()}')\n",
    "        if modules.bias is not None:\n",
    "            GRAPH[name]['bias']['float'] = model.state_dict()[f'{name}.bias'].detach().cpu().numpy()\n",
    "            GRAPH[name]['bias']['qfloat'] = modules.bias().detach().cpu().numpy()\n",
    "            GRAPH[name]['bias_scale'] = modules.scale\n",
    "            GRAPH[name]['bias_zero_point'] = modules.zero_point\n",
    "        #     print(f'{name} bias: {modules.bias()}')\n",
    "# print(qmodel)\n",
    "# print(get_accuracy(qmodel, val_loader))"
   ]
  },
  {
   "cell_type": "code",
   "execution_count": 16,
   "metadata": {},
   "outputs": [
    {
     "name": "stdout",
     "output_type": "stream",
     "text": [
      "0.7852497696876526\n"
     ]
    },
    {
     "data": {
      "image/png": "[encoded data removed]",
      "text/plain": [
       "<Figure size 1800x600 with 1 Axes>"
      ]
     },
     "metadata": {},
     "output_type": "display_data"
    }
   ],
   "source": [
    "from pprint import pprint\n",
    "from collections import OrderedDict\n",
    "import numpy as np\n",
    "import matplotlib.pyplot as plt\n",
    "import copy\n",
    "%matplotlib inline\n",
    "# qweight = GRAPH['STAGE0_CONV']['weight']['int'].dequantize()[:,:3,:,:].numpy().reshape(1, -1)\n",
    "qweight = GRAPH['STAGE0_CONV']['weight']['int'].int_repr()[:,:3,:,:].numpy().reshape(-1)\n",
    "from fxpmath import Fxp\n",
    "# qweight = Fxp(qweight, signed=True, n_word=8, overflow='saturate')\n",
    "weight = GRAPH['STAGE0_CONV']['weight']['float'].reshape(-1)\n",
    "weight = Fxp(weight, signed=True, n_word=8, overflow='saturate')\n",
    "weight = weight << weight.n_frac\n",
    "# print(weight.n_frac)\n",
    "scale = GRAPH['STAGE0_CONV']['scale']\n",
    "zero = GRAPH['STAGE0_CONV']['zero_point']\n",
    "print(scale)\n",
    "# weight = (weight - zero)*(1/scale)\n",
    "\n",
    "\n",
    "plt.figure(figsize=(18,6))\n",
    "# plt.hist(qweight, bins=100, lpha=0.5, label=f'Scale:{scale}, Zero:{zero}')\n",
    "# plt.hist(weight, bins=100, color='b', alpha=0.5, label=f'Original')\n",
    "plt.scatter(np.arange(len(qweight)), qweight, c='r', label=f'Scale:{scale}, Zero:{zero}')\n",
    "plt.scatter(np.arange(len(weight)), weight, c='b', label=f'Original')\n",
    "# plt.legend()\n",
    "plt.show()\n",
    "\n",
    "\n",
    "# pprint(GRAPH['LINEAR'])\n",
    "# test_qint = (GRAPH['STAGE0_CONV']['weight']['int'] - GRAPH['STAGE0_CONV']['zero_point'])*(GRAPH['STAGE0_CONV']['scale'])\n",
    "# print(test_qint)\n",
    "# test_qint2 = (GRAPH['STAGE0_CONV']['weight']['float'])\n",
    "# test_qint[:,:3, :,:] - test_qint2\n",
    "# print(GRAPH['STAGE0_CONV']['bias']['float'], GRAPH['STAGE0_CONV']['bias']['qfloat'])\n"
   ]
  },
  {
   "cell_type": "code",
   "execution_count": 17,
   "metadata": {},
   "outputs": [
    {
     "name": "stdout",
     "output_type": "stream",
     "text": [
      "0.40 MB\n",
      "0.11 MB\n"
     ]
    }
   ],
   "source": [
    "def print_model_size(mdl):\n",
    "    torch.save(mdl.state_dict(), \"tmp.pt\")\n",
    "    print(\"%.2f MB\" %(os.path.getsize(\"tmp.pt\")/1e6))\n",
    "    os.remove('tmp.pt')\n",
    "\n",
    "print_model_size(model)\n",
    "print_model_size(qmodel)"
   ]
  },
  {
   "cell_type": "code",
   "execution_count": 18,
   "metadata": {},
   "outputs": [],
   "source": [
    "from torch.ao.nn.quantized.modules.conv import Conv2d as QConv2d\n",
    "from torch.ao.nn.quantized.modules.linear import Linear as QLinear\n",
    "from torch import nn\n",
    "def hook_save_params(module, input, output):\n",
    "    setattr(module, \"input_shape\", input[0].shape)\n",
    "    setattr(module, \"output_shape\", output[0].shape)\n",
    "    setattr(module, \"input\", input[0][0])\n",
    "    setattr(module, \"output\", output[0])\n",
    "\n",
    "\n",
    "def register_hooks(model:nn.Module):\n",
    "    for name, module in model.named_modules():\n",
    "        if isinstance(module, (QConv2d, QLinear, nn.Conv2d, nn.Linear, nn.MaxPool2d, nn.AvgPool2d, nn.AdaptiveAvgPool2d)):\n",
    "            module.register_forward_hook(hook_save_params)\n"
   ]
  },
  {
   "cell_type": "code",
   "execution_count": 19,
   "metadata": {},
   "outputs": [],
   "source": [
    "register_hooks(qmodel)"
   ]
  },
  {
   "cell_type": "code",
   "execution_count": 20,
   "metadata": {},
   "outputs": [],
   "source": [
    "qmodel = qmodel.to(device)\n",
    "with torch.inference_mode():\n",
    "  for img, label in val_loader:\n",
    "    img = img.to(device)\n",
    "    label = label.to(device)\n",
    "    if cnt > 10:\n",
    "        break\n",
    "    qmodel(img)"
   ]
  },
  {
   "cell_type": "code",
   "execution_count": 21,
   "metadata": {},
   "outputs": [
    {
     "name": "stdout",
     "output_type": "stream",
     "text": [
      "STAGE0_CONV torch.Size([50, 3, 96, 96]) torch.Size([16, 48, 48]) torch.Size([3, 96, 96]) torch.Size([16, 48, 48])\n",
      "STAGE1_0_CONV torch.Size([50, 16, 48, 48]) torch.Size([16, 24, 24]) torch.Size([16, 48, 48]) torch.Size([16, 24, 24])\n",
      "STAGE2_0_CONV torch.Size([50, 16, 24, 24]) torch.Size([32, 12, 12]) torch.Size([16, 24, 24]) torch.Size([32, 12, 12])\n",
      "STAGE3_0_CONV torch.Size([50, 32, 12, 12]) torch.Size([64, 6, 6]) torch.Size([32, 12, 12]) torch.Size([64, 6, 6])\n",
      "STAGE4_0_CONV torch.Size([50, 64, 6, 6]) torch.Size([128, 3, 3]) torch.Size([64, 6, 6]) torch.Size([128, 3, 3])\n",
      "GAP21 torch.Size([50, 128, 3, 3]) torch.Size([128, 1, 1]) torch.Size([128, 3, 3]) torch.Size([128, 1, 1])\n",
      "LINEAR torch.Size([50, 128]) torch.Size([2]) torch.Size([128]) torch.Size([2])\n"
     ]
    }
   ],
   "source": [
    "for name, module in qmodel.named_modules():\n",
    "    if isinstance(module, (QConv2d, QLinear, nn.Conv2d, nn.Linear, nn.MaxPool2d, nn.AvgPool2d, nn.AdaptiveAvgPool2d)):\n",
    "        print(name, module.input_shape, module.output_shape, module.input.shape, module.output.shape)"
   ]
  }
 ],
 "metadata": {
  "kernelspec": {
   "display_name": "lab",
   "language": "python",
   "name": "python3"
  },
  "language_info": {
   "codemirror_mode": {
    "name": "ipython",
    "version": 3
   },
   "file_extension": ".py",
   "mimetype": "text/x-python",
   "name": "python",
   "nbconvert_exporter": "python",
   "pygments_lexer": "ipython3",
   "version": "3.10.8"
  }
 },
 "nbformat": 4,
 "nbformat_minor": 2
}
