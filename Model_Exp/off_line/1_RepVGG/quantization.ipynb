{
 "cells": [
  {
   "cell_type": "code",
   "execution_count": 1,
   "metadata": {},
   "outputs": [],
   "source": [
    "import numpy as np\n",
    "import torch\n",
    "import copy\n",
    "from quantization.repvgg_quantized import RepVGGWholeQuant\n",
    "# from quantization.repvgg_quantized import RepVGGWholeQuant\n",
    "from repvggplus import create_RepVGGplus_by_name, repvgg_model_convert\n",
    "import os\n",
    "from torchsummary import summary\n",
    "from dataclasses import dataclass"
   ]
  },
  {
   "cell_type": "code",
   "execution_count": 3,
   "metadata": {},
   "outputs": [
    {
     "name": "stdout",
     "output_type": "stream",
     "text": [
      "=================== Building the vanila RepVGG ===================\n",
      "=> loading checkpoint './trained_models/RepVGG-C1/qformat-cifar10/best_ckpt.pth'\n",
      "dict_keys(['stage0.rbr_dense.conv.weight', 'stage0.rbr_dense.conv.input_param.frac_bit', 'stage0.rbr_dense.conv.input_param.min', 'stage0.rbr_dense.conv.input_param.max', 'stage0.rbr_dense.conv.weight_param.frac_bit', 'stage0.rbr_dense.conv.weight_param.min', 'stage0.rbr_dense.conv.weight_param.max', 'stage0.rbr_dense.conv.output_param.frac_bit', 'stage0.rbr_dense.conv.output_param.min', 'stage0.rbr_dense.conv.output_param.max', 'stage0.rbr_dense.bn.weight', 'stage0.rbr_dense.bn.bias', 'stage0.rbr_dense.bn.running_mean', 'stage0.rbr_dense.bn.running_var', 'stage0.rbr_dense.bn.num_batches_tracked', 'stage0.rbr_1x1.conv.weight', 'stage0.rbr_1x1.conv.input_param.frac_bit', 'stage0.rbr_1x1.conv.input_param.min', 'stage0.rbr_1x1.conv.input_param.max', 'stage0.rbr_1x1.conv.weight_param.frac_bit', 'stage0.rbr_1x1.conv.weight_param.min', 'stage0.rbr_1x1.conv.weight_param.max', 'stage0.rbr_1x1.conv.output_param.frac_bit', 'stage0.rbr_1x1.conv.output_param.min', 'stage0.rbr_1x1.conv.output_param.max', 'stage0.rbr_1x1.bn.weight', 'stage0.rbr_1x1.bn.bias', 'stage0.rbr_1x1.bn.running_mean', 'stage0.rbr_1x1.bn.running_var', 'stage0.rbr_1x1.bn.num_batches_tracked', 'stage1.0.rbr_dense.conv.weight', 'stage1.0.rbr_dense.conv.input_param.frac_bit', 'stage1.0.rbr_dense.conv.input_param.min', 'stage1.0.rbr_dense.conv.input_param.max', 'stage1.0.rbr_dense.conv.weight_param.frac_bit', 'stage1.0.rbr_dense.conv.weight_param.min', 'stage1.0.rbr_dense.conv.weight_param.max', 'stage1.0.rbr_dense.conv.output_param.frac_bit', 'stage1.0.rbr_dense.conv.output_param.min', 'stage1.0.rbr_dense.conv.output_param.max', 'stage1.0.rbr_dense.bn.weight', 'stage1.0.rbr_dense.bn.bias', 'stage1.0.rbr_dense.bn.running_mean', 'stage1.0.rbr_dense.bn.running_var', 'stage1.0.rbr_dense.bn.num_batches_tracked', 'stage1.0.rbr_1x1.conv.weight', 'stage1.0.rbr_1x1.conv.input_param.frac_bit', 'stage1.0.rbr_1x1.conv.input_param.min', 'stage1.0.rbr_1x1.conv.input_param.max', 'stage1.0.rbr_1x1.conv.weight_param.frac_bit', 'stage1.0.rbr_1x1.conv.weight_param.min', 'stage1.0.rbr_1x1.conv.weight_param.max', 'stage1.0.rbr_1x1.conv.output_param.frac_bit', 'stage1.0.rbr_1x1.conv.output_param.min', 'stage1.0.rbr_1x1.conv.output_param.max', 'stage1.0.rbr_1x1.bn.weight', 'stage1.0.rbr_1x1.bn.bias', 'stage1.0.rbr_1x1.bn.running_mean', 'stage1.0.rbr_1x1.bn.running_var', 'stage1.0.rbr_1x1.bn.num_batches_tracked', 'stage2.0.rbr_dense.conv.weight', 'stage2.0.rbr_dense.conv.input_param.frac_bit', 'stage2.0.rbr_dense.conv.input_param.min', 'stage2.0.rbr_dense.conv.input_param.max', 'stage2.0.rbr_dense.conv.weight_param.frac_bit', 'stage2.0.rbr_dense.conv.weight_param.min', 'stage2.0.rbr_dense.conv.weight_param.max', 'stage2.0.rbr_dense.conv.output_param.frac_bit', 'stage2.0.rbr_dense.conv.output_param.min', 'stage2.0.rbr_dense.conv.output_param.max', 'stage2.0.rbr_dense.bn.weight', 'stage2.0.rbr_dense.bn.bias', 'stage2.0.rbr_dense.bn.running_mean', 'stage2.0.rbr_dense.bn.running_var', 'stage2.0.rbr_dense.bn.num_batches_tracked', 'stage2.0.rbr_1x1.conv.weight', 'stage2.0.rbr_1x1.conv.input_param.frac_bit', 'stage2.0.rbr_1x1.conv.input_param.min', 'stage2.0.rbr_1x1.conv.input_param.max', 'stage2.0.rbr_1x1.conv.weight_param.frac_bit', 'stage2.0.rbr_1x1.conv.weight_param.min', 'stage2.0.rbr_1x1.conv.weight_param.max', 'stage2.0.rbr_1x1.conv.output_param.frac_bit', 'stage2.0.rbr_1x1.conv.output_param.min', 'stage2.0.rbr_1x1.conv.output_param.max', 'stage2.0.rbr_1x1.bn.weight', 'stage2.0.rbr_1x1.bn.bias', 'stage2.0.rbr_1x1.bn.running_mean', 'stage2.0.rbr_1x1.bn.running_var', 'stage2.0.rbr_1x1.bn.num_batches_tracked', 'stage3.0.rbr_dense.conv.weight', 'stage3.0.rbr_dense.conv.input_param.frac_bit', 'stage3.0.rbr_dense.conv.input_param.min', 'stage3.0.rbr_dense.conv.input_param.max', 'stage3.0.rbr_dense.conv.weight_param.frac_bit', 'stage3.0.rbr_dense.conv.weight_param.min', 'stage3.0.rbr_dense.conv.weight_param.max', 'stage3.0.rbr_dense.conv.output_param.frac_bit', 'stage3.0.rbr_dense.conv.output_param.min', 'stage3.0.rbr_dense.conv.output_param.max', 'stage3.0.rbr_dense.bn.weight', 'stage3.0.rbr_dense.bn.bias', 'stage3.0.rbr_dense.bn.running_mean', 'stage3.0.rbr_dense.bn.running_var', 'stage3.0.rbr_dense.bn.num_batches_tracked', 'stage3.0.rbr_1x1.conv.weight', 'stage3.0.rbr_1x1.conv.input_param.frac_bit', 'stage3.0.rbr_1x1.conv.input_param.min', 'stage3.0.rbr_1x1.conv.input_param.max', 'stage3.0.rbr_1x1.conv.weight_param.frac_bit', 'stage3.0.rbr_1x1.conv.weight_param.min', 'stage3.0.rbr_1x1.conv.weight_param.max', 'stage3.0.rbr_1x1.conv.output_param.frac_bit', 'stage3.0.rbr_1x1.conv.output_param.min', 'stage3.0.rbr_1x1.conv.output_param.max', 'stage3.0.rbr_1x1.bn.weight', 'stage3.0.rbr_1x1.bn.bias', 'stage3.0.rbr_1x1.bn.running_mean', 'stage3.0.rbr_1x1.bn.running_var', 'stage3.0.rbr_1x1.bn.num_batches_tracked', 'stage4.0.rbr_dense.conv.weight', 'stage4.0.rbr_dense.conv.input_param.frac_bit', 'stage4.0.rbr_dense.conv.input_param.min', 'stage4.0.rbr_dense.conv.input_param.max', 'stage4.0.rbr_dense.conv.weight_param.frac_bit', 'stage4.0.rbr_dense.conv.weight_param.min', 'stage4.0.rbr_dense.conv.weight_param.max', 'stage4.0.rbr_dense.conv.output_param.frac_bit', 'stage4.0.rbr_dense.conv.output_param.min', 'stage4.0.rbr_dense.conv.output_param.max', 'stage4.0.rbr_dense.bn.weight', 'stage4.0.rbr_dense.bn.bias', 'stage4.0.rbr_dense.bn.running_mean', 'stage4.0.rbr_dense.bn.running_var', 'stage4.0.rbr_dense.bn.num_batches_tracked', 'stage4.0.rbr_1x1.conv.weight', 'stage4.0.rbr_1x1.conv.input_param.frac_bit', 'stage4.0.rbr_1x1.conv.input_param.min', 'stage4.0.rbr_1x1.conv.input_param.max', 'stage4.0.rbr_1x1.conv.weight_param.frac_bit', 'stage4.0.rbr_1x1.conv.weight_param.min', 'stage4.0.rbr_1x1.conv.weight_param.max', 'stage4.0.rbr_1x1.conv.output_param.frac_bit', 'stage4.0.rbr_1x1.conv.output_param.min', 'stage4.0.rbr_1x1.conv.output_param.max', 'stage4.0.rbr_1x1.bn.weight', 'stage4.0.rbr_1x1.bn.bias', 'stage4.0.rbr_1x1.bn.running_mean', 'stage4.0.rbr_1x1.bn.running_var', 'stage4.0.rbr_1x1.bn.num_batches_tracked', 'linear.weight', 'linear.bias', 'linear.input_param.frac_bit', 'linear.input_param.min', 'linear.input_param.max', 'linear.weight_param.frac_bit', 'linear.weight_param.min', 'linear.weight_param.max', 'linear.bias_param.frac_bit', 'linear.bias_param.min', 'linear.bias_param.max', 'linear.output_param.frac_bit', 'linear.output_param.min', 'linear.output_param.max'])\n"
     ]
    },
    {
     "ename": "RuntimeError",
     "evalue": "Error(s) in loading state_dict for RepVGG:\n\tUnexpected key(s) in state_dict: \"stage0.rbr_dense.conv.input_param.frac_bit\", \"stage0.rbr_dense.conv.input_param.min\", \"stage0.rbr_dense.conv.input_param.max\", \"stage0.rbr_dense.conv.weight_param.frac_bit\", \"stage0.rbr_dense.conv.weight_param.min\", \"stage0.rbr_dense.conv.weight_param.max\", \"stage0.rbr_dense.conv.output_param.frac_bit\", \"stage0.rbr_dense.conv.output_param.min\", \"stage0.rbr_dense.conv.output_param.max\", \"stage0.rbr_1x1.conv.input_param.frac_bit\", \"stage0.rbr_1x1.conv.input_param.min\", \"stage0.rbr_1x1.conv.input_param.max\", \"stage0.rbr_1x1.conv.weight_param.frac_bit\", \"stage0.rbr_1x1.conv.weight_param.min\", \"stage0.rbr_1x1.conv.weight_param.max\", \"stage0.rbr_1x1.conv.output_param.frac_bit\", \"stage0.rbr_1x1.conv.output_param.min\", \"stage0.rbr_1x1.conv.output_param.max\", \"stage1.0.rbr_dense.conv.input_param.frac_bit\", \"stage1.0.rbr_dense.conv.input_param.min\", \"stage1.0.rbr_dense.conv.input_param.max\", \"stage1.0.rbr_dense.conv.weight_param.frac_bit\", \"stage1.0.rbr_dense.conv.weight_param.min\", \"stage1.0.rbr_dense.conv.weight_param.max\", \"stage1.0.rbr_dense.conv.output_param.frac_bit\", \"stage1.0.rbr_dense.conv.output_param.min\", \"stage1.0.rbr_dense.conv.output_param.max\", \"stage1.0.rbr_1x1.conv.input_param.frac_bit\", \"stage1.0.rbr_1x1.conv.input_param.min\", \"stage1.0.rbr_1x1.conv.input_param.max\", \"stage1.0.rbr_1x1.conv.weight_param.frac_bit\", \"stage1.0.rbr_1x1.conv.weight_param.min\", \"stage1.0.rbr_1x1.conv.weight_param.max\", \"stage1.0.rbr_1x1.conv.output_param.frac_bit\", \"stage1.0.rbr_1x1.conv.output_param.min\", \"stage1.0.rbr_1x1.conv.output_param.max\", \"stage2.0.rbr_dense.conv.input_param.frac_bit\", \"stage2.0.rbr_dense.conv.input_param.min\", \"stage2.0.rbr_dense.conv.input_param.max\", \"stage2.0.rbr_dense.conv.weight_param.frac_bit\", \"stage2.0.rbr_dense.conv.weight_param.min\", \"stage2.0.rbr_dense.conv.weight_param.max\", \"stage2.0.rbr_dense.conv.output_param.frac_bit\", \"stage2.0.rbr_dense.conv.output_param.min\", \"stage2.0.rbr_dense.conv.output_param.max\", \"stage2.0.rbr_1x1.conv.input_param.frac_bit\", \"stage2.0.rbr_1x1.conv.input_param.min\", \"stage2.0.rbr_1x1.conv.input_param.max\", \"stage2.0.rbr_1x1.conv.weight_param.frac_bit\", \"stage2.0.rbr_1x1.conv.weight_param.min\", \"stage2.0.rbr_1x1.conv.weight_param.max\", \"stage2.0.rbr_1x1.conv.output_param.frac_bit\", \"stage2.0.rbr_1x1.conv.output_param.min\", \"stage2.0.rbr_1x1.conv.output_param.max\", \"stage3.0.rbr_dense.conv.input_param.frac_bit\", \"stage3.0.rbr_dense.conv.input_param.min\", \"stage3.0.rbr_dense.conv.input_param.max\", \"stage3.0.rbr_dense.conv.weight_param.frac_bit\", \"stage3.0.rbr_dense.conv.weight_param.min\", \"stage3.0.rbr_dense.conv.weight_param.max\", \"stage3.0.rbr_dense.conv.output_param.frac_bit\", \"stage3.0.rbr_dense.conv.output_param.min\", \"stage3.0.rbr_dense.conv.output_param.max\", \"stage3.0.rbr_1x1.conv.input_param.frac_bit\", \"stage3.0.rbr_1x1.conv.input_param.min\", \"stage3.0.rbr_1x1.conv.input_param.max\", \"stage3.0.rbr_1x1.conv.weight_param.frac_bit\", \"stage3.0.rbr_1x1.conv.weight_param.min\", \"stage3.0.rbr_1x1.conv.weight_param.max\", \"stage3.0.rbr_1x1.conv.output_param.frac_bit\", \"stage3.0.rbr_1x1.conv.output_param.min\", \"stage3.0.rbr_1x1.conv.output_param.max\", \"stage4.0.rbr_dense.conv.input_param.frac_bit\", \"stage4.0.rbr_dense.conv.input_param.min\", \"stage4.0.rbr_dense.conv.input_param.max\", \"stage4.0.rbr_dense.conv.weight_param.frac_bit\", \"stage4.0.rbr_dense.conv.weight_param.min\", \"stage4.0.rbr_dense.conv.weight_param.max\", \"stage4.0.rbr_dense.conv.output_param.frac_bit\", \"stage4.0.rbr_dense.conv.output_param.min\", \"stage4.0.rbr_dense.conv.output_param.max\", \"stage4.0.rbr_1x1.conv.input_param.frac_bit\", \"stage4.0.rbr_1x1.conv.input_param.min\", \"stage4.0.rbr_1x1.conv.input_param.max\", \"stage4.0.rbr_1x1.conv.weight_param.frac_bit\", \"stage4.0.rbr_1x1.conv.weight_param.min\", \"stage4.0.rbr_1x1.conv.weight_param.max\", \"stage4.0.rbr_1x1.conv.output_param.frac_bit\", \"stage4.0.rbr_1x1.conv.output_param.min\", \"stage4.0.rbr_1x1.conv.output_param.max\", \"linear.input_param.frac_bit\", \"linear.input_param.min\", \"linear.input_param.max\", \"linear.weight_param.frac_bit\", \"linear.weight_param.min\", \"linear.weight_param.max\", \"linear.bias_param.frac_bit\", \"linear.bias_param.min\", \"linear.bias_param.max\", \"linear.output_param.frac_bit\", \"linear.output_param.min\", \"linear.output_param.max\". ",
     "output_type": "error",
     "traceback": [
      "\u001b[1;31m---------------------------------------------------------------------------\u001b[0m",
      "\u001b[1;31mRuntimeError\u001b[0m                              Traceback (most recent call last)",
      "Cell \u001b[1;32mIn[3], line 64\u001b[0m\n\u001b[0;32m     62\u001b[0m     ckpt \u001b[38;5;241m=\u001b[39m {k\u001b[38;5;241m.\u001b[39mreplace(\u001b[38;5;124m'\u001b[39m\u001b[38;5;124mmodule.\u001b[39m\u001b[38;5;124m'\u001b[39m, \u001b[38;5;124m'\u001b[39m\u001b[38;5;124m'\u001b[39m): v \u001b[38;5;28;01mfor\u001b[39;00m k, v \u001b[38;5;129;01min\u001b[39;00m checkpoint\u001b[38;5;241m.\u001b[39mitems()}  \u001b[38;5;66;03m# strip the names\u001b[39;00m\n\u001b[0;32m     63\u001b[0m     \u001b[38;5;28mprint\u001b[39m(ckpt\u001b[38;5;241m.\u001b[39mkeys())\n\u001b[1;32m---> 64\u001b[0m     \u001b[43mtrain_model\u001b[49m\u001b[38;5;241;43m.\u001b[39;49m\u001b[43mload_state_dict\u001b[49m\u001b[43m(\u001b[49m\u001b[43mckpt\u001b[49m\u001b[43m)\u001b[49m\n\u001b[0;32m     65\u001b[0m \u001b[38;5;28;01melse\u001b[39;00m:\n\u001b[0;32m     66\u001b[0m     \u001b[38;5;28mprint\u001b[39m(\u001b[38;5;124m\"\u001b[39m\u001b[38;5;124m=> no checkpoint found at \u001b[39m\u001b[38;5;124m'\u001b[39m\u001b[38;5;132;01m{}\u001b[39;00m\u001b[38;5;124m'\u001b[39m\u001b[38;5;124m\"\u001b[39m\u001b[38;5;241m.\u001b[39mformat(args\u001b[38;5;241m.\u001b[39mload))\n",
      "File \u001b[1;32mc:\\Users\\hci-lab01\\.conda\\envs\\lab\\lib\\site-packages\\torch\\nn\\modules\\module.py:2152\u001b[0m, in \u001b[0;36mModule.load_state_dict\u001b[1;34m(self, state_dict, strict, assign)\u001b[0m\n\u001b[0;32m   2147\u001b[0m         error_msgs\u001b[38;5;241m.\u001b[39minsert(\n\u001b[0;32m   2148\u001b[0m             \u001b[38;5;241m0\u001b[39m, \u001b[38;5;124m'\u001b[39m\u001b[38;5;124mMissing key(s) in state_dict: \u001b[39m\u001b[38;5;132;01m{}\u001b[39;00m\u001b[38;5;124m. \u001b[39m\u001b[38;5;124m'\u001b[39m\u001b[38;5;241m.\u001b[39mformat(\n\u001b[0;32m   2149\u001b[0m                 \u001b[38;5;124m'\u001b[39m\u001b[38;5;124m, \u001b[39m\u001b[38;5;124m'\u001b[39m\u001b[38;5;241m.\u001b[39mjoin(\u001b[38;5;124mf\u001b[39m\u001b[38;5;124m'\u001b[39m\u001b[38;5;124m\"\u001b[39m\u001b[38;5;132;01m{\u001b[39;00mk\u001b[38;5;132;01m}\u001b[39;00m\u001b[38;5;124m\"\u001b[39m\u001b[38;5;124m'\u001b[39m \u001b[38;5;28;01mfor\u001b[39;00m k \u001b[38;5;129;01min\u001b[39;00m missing_keys)))\n\u001b[0;32m   2151\u001b[0m \u001b[38;5;28;01mif\u001b[39;00m \u001b[38;5;28mlen\u001b[39m(error_msgs) \u001b[38;5;241m>\u001b[39m \u001b[38;5;241m0\u001b[39m:\n\u001b[1;32m-> 2152\u001b[0m     \u001b[38;5;28;01mraise\u001b[39;00m \u001b[38;5;167;01mRuntimeError\u001b[39;00m(\u001b[38;5;124m'\u001b[39m\u001b[38;5;124mError(s) in loading state_dict for \u001b[39m\u001b[38;5;132;01m{}\u001b[39;00m\u001b[38;5;124m:\u001b[39m\u001b[38;5;130;01m\\n\u001b[39;00m\u001b[38;5;130;01m\\t\u001b[39;00m\u001b[38;5;132;01m{}\u001b[39;00m\u001b[38;5;124m'\u001b[39m\u001b[38;5;241m.\u001b[39mformat(\n\u001b[0;32m   2153\u001b[0m                        \u001b[38;5;28mself\u001b[39m\u001b[38;5;241m.\u001b[39m\u001b[38;5;18m__class__\u001b[39m\u001b[38;5;241m.\u001b[39m\u001b[38;5;18m__name__\u001b[39m, \u001b[38;5;124m\"\u001b[39m\u001b[38;5;130;01m\\n\u001b[39;00m\u001b[38;5;130;01m\\t\u001b[39;00m\u001b[38;5;124m\"\u001b[39m\u001b[38;5;241m.\u001b[39mjoin(error_msgs)))\n\u001b[0;32m   2154\u001b[0m \u001b[38;5;28;01mreturn\u001b[39;00m _IncompatibleKeys(missing_keys, unexpected_keys)\n",
      "\u001b[1;31mRuntimeError\u001b[0m: Error(s) in loading state_dict for RepVGG:\n\tUnexpected key(s) in state_dict: \"stage0.rbr_dense.conv.input_param.frac_bit\", \"stage0.rbr_dense.conv.input_param.min\", \"stage0.rbr_dense.conv.input_param.max\", \"stage0.rbr_dense.conv.weight_param.frac_bit\", \"stage0.rbr_dense.conv.weight_param.min\", \"stage0.rbr_dense.conv.weight_param.max\", \"stage0.rbr_dense.conv.output_param.frac_bit\", \"stage0.rbr_dense.conv.output_param.min\", \"stage0.rbr_dense.conv.output_param.max\", \"stage0.rbr_1x1.conv.input_param.frac_bit\", \"stage0.rbr_1x1.conv.input_param.min\", \"stage0.rbr_1x1.conv.input_param.max\", \"stage0.rbr_1x1.conv.weight_param.frac_bit\", \"stage0.rbr_1x1.conv.weight_param.min\", \"stage0.rbr_1x1.conv.weight_param.max\", \"stage0.rbr_1x1.conv.output_param.frac_bit\", \"stage0.rbr_1x1.conv.output_param.min\", \"stage0.rbr_1x1.conv.output_param.max\", \"stage1.0.rbr_dense.conv.input_param.frac_bit\", \"stage1.0.rbr_dense.conv.input_param.min\", \"stage1.0.rbr_dense.conv.input_param.max\", \"stage1.0.rbr_dense.conv.weight_param.frac_bit\", \"stage1.0.rbr_dense.conv.weight_param.min\", \"stage1.0.rbr_dense.conv.weight_param.max\", \"stage1.0.rbr_dense.conv.output_param.frac_bit\", \"stage1.0.rbr_dense.conv.output_param.min\", \"stage1.0.rbr_dense.conv.output_param.max\", \"stage1.0.rbr_1x1.conv.input_param.frac_bit\", \"stage1.0.rbr_1x1.conv.input_param.min\", \"stage1.0.rbr_1x1.conv.input_param.max\", \"stage1.0.rbr_1x1.conv.weight_param.frac_bit\", \"stage1.0.rbr_1x1.conv.weight_param.min\", \"stage1.0.rbr_1x1.conv.weight_param.max\", \"stage1.0.rbr_1x1.conv.output_param.frac_bit\", \"stage1.0.rbr_1x1.conv.output_param.min\", \"stage1.0.rbr_1x1.conv.output_param.max\", \"stage2.0.rbr_dense.conv.input_param.frac_bit\", \"stage2.0.rbr_dense.conv.input_param.min\", \"stage2.0.rbr_dense.conv.input_param.max\", \"stage2.0.rbr_dense.conv.weight_param.frac_bit\", \"stage2.0.rbr_dense.conv.weight_param.min\", \"stage2.0.rbr_dense.conv.weight_param.max\", \"stage2.0.rbr_dense.conv.output_param.frac_bit\", \"stage2.0.rbr_dense.conv.output_param.min\", \"stage2.0.rbr_dense.conv.output_param.max\", \"stage2.0.rbr_1x1.conv.input_param.frac_bit\", \"stage2.0.rbr_1x1.conv.input_param.min\", \"stage2.0.rbr_1x1.conv.input_param.max\", \"stage2.0.rbr_1x1.conv.weight_param.frac_bit\", \"stage2.0.rbr_1x1.conv.weight_param.min\", \"stage2.0.rbr_1x1.conv.weight_param.max\", \"stage2.0.rbr_1x1.conv.output_param.frac_bit\", \"stage2.0.rbr_1x1.conv.output_param.min\", \"stage2.0.rbr_1x1.conv.output_param.max\", \"stage3.0.rbr_dense.conv.input_param.frac_bit\", \"stage3.0.rbr_dense.conv.input_param.min\", \"stage3.0.rbr_dense.conv.input_param.max\", \"stage3.0.rbr_dense.conv.weight_param.frac_bit\", \"stage3.0.rbr_dense.conv.weight_param.min\", \"stage3.0.rbr_dense.conv.weight_param.max\", \"stage3.0.rbr_dense.conv.output_param.frac_bit\", \"stage3.0.rbr_dense.conv.output_param.min\", \"stage3.0.rbr_dense.conv.output_param.max\", \"stage3.0.rbr_1x1.conv.input_param.frac_bit\", \"stage3.0.rbr_1x1.conv.input_param.min\", \"stage3.0.rbr_1x1.conv.input_param.max\", \"stage3.0.rbr_1x1.conv.weight_param.frac_bit\", \"stage3.0.rbr_1x1.conv.weight_param.min\", \"stage3.0.rbr_1x1.conv.weight_param.max\", \"stage3.0.rbr_1x1.conv.output_param.frac_bit\", \"stage3.0.rbr_1x1.conv.output_param.min\", \"stage3.0.rbr_1x1.conv.output_param.max\", \"stage4.0.rbr_dense.conv.input_param.frac_bit\", \"stage4.0.rbr_dense.conv.input_param.min\", \"stage4.0.rbr_dense.conv.input_param.max\", \"stage4.0.rbr_dense.conv.weight_param.frac_bit\", \"stage4.0.rbr_dense.conv.weight_param.min\", \"stage4.0.rbr_dense.conv.weight_param.max\", \"stage4.0.rbr_dense.conv.output_param.frac_bit\", \"stage4.0.rbr_dense.conv.output_param.min\", \"stage4.0.rbr_dense.conv.output_param.max\", \"stage4.0.rbr_1x1.conv.input_param.frac_bit\", \"stage4.0.rbr_1x1.conv.input_param.min\", \"stage4.0.rbr_1x1.conv.input_param.max\", \"stage4.0.rbr_1x1.conv.weight_param.frac_bit\", \"stage4.0.rbr_1x1.conv.weight_param.min\", \"stage4.0.rbr_1x1.conv.weight_param.max\", \"stage4.0.rbr_1x1.conv.output_param.frac_bit\", \"stage4.0.rbr_1x1.conv.output_param.min\", \"stage4.0.rbr_1x1.conv.output_param.max\", \"linear.input_param.frac_bit\", \"linear.input_param.min\", \"linear.input_param.max\", \"linear.weight_param.frac_bit\", \"linear.weight_param.min\", \"linear.weight_param.max\", \"linear.bias_param.frac_bit\", \"linear.bias_param.min\", \"linear.bias_param.max\", \"linear.output_param.frac_bit\", \"linear.output_param.min\", \"linear.output_param.max\". "
     ]
    }
   ],
   "source": [
    "\n",
    "from RepOptimizers.data.dataloader import get_dataloader, get_subnet_dataloader\n",
    "data_dir = \"E:/1_TinyML/tiny/benchmark/training/visual_wake_words/vw_coco2014_96\"\n",
    "image_size = 96\n",
    "workers = 4\n",
    "batch_size = 128\n",
    "# from main import get_cifar10_loader\n",
    "val_loader = get_subnet_dataloader(data_dir, subset_len=1000, batch_size=batch_size, image_size=image_size, num_workers=workers)\n",
    "# _, val_loader = get_cifar10_loader(batchsize=batch_size, image_size=image_size, num_workers=workers)\n",
    "\n",
    "device = torch.device('cuda:0')\n",
    "\n",
    "@torch.no_grad()\n",
    "def get_accuracy(\n",
    "  model,\n",
    "  dataloader,\n",
    "  extra_preprocess = None\n",
    ") -> float:\n",
    "  from tqdm import tqdm\n",
    "  model.eval()\n",
    "\n",
    "  num_samples = 0\n",
    "  num_correct = 0\n",
    "\n",
    "  for inputs, targets in tqdm(dataloader, desc=\"eval\", leave=False):\n",
    "    # Move the data from CPU to GPU\n",
    "    inputs = inputs.cuda()\n",
    "    if extra_preprocess is not None:\n",
    "        for preprocess in extra_preprocess:\n",
    "            inputs = preprocess(inputs)\n",
    "\n",
    "    targets = targets.cuda()\n",
    "\n",
    "    # Inference\n",
    "    outputs = model(inputs)\n",
    "\n",
    "    # Convert logits to class indices\n",
    "    outputs = outputs.argmax(dim=1)\n",
    "\n",
    "    # Update metrics\n",
    "    num_samples += targets.size(0)\n",
    "    num_correct += (outputs == targets).sum()\n",
    "\n",
    "  return (num_correct / num_samples * 100).item()\n",
    "\n",
    "@dataclass\n",
    "class ArgumentParser():\n",
    "    load: str = './trained_models/RepVGG-C1/qformat-cifar10/best_ckpt.pth'\n",
    "    save: str = \"./trained_models/RepVGG-C1/qformat-cifar10/best_ckpt_deploy.pth\"\n",
    "    arch: str = 'RepVGG-C1'\n",
    "\n",
    "args = ArgumentParser()\n",
    "train_model = create_RepVGGplus_by_name(args.arch, deploy=False, num_classes=10)\n",
    "\n",
    "\n",
    "if os.path.isfile(args.load):\n",
    "    print(\"=> loading checkpoint '{}'\".format(args.load))\n",
    "    checkpoint = torch.load(args.load)\n",
    "    if 'state_dict' in checkpoint:\n",
    "        checkpoint = checkpoint['state_dict']\n",
    "    elif 'model' in checkpoint:\n",
    "        checkpoint = checkpoint['model']\n",
    "    ckpt = {k.replace('module.', ''): v for k, v in checkpoint.items()}  # strip the names\n",
    "    print(ckpt.keys())\n",
    "    train_model.load_state_dict(ckpt)\n",
    "else:\n",
    "    print(\"=> no checkpoint found at '{}'\".format(args.load))\n",
    "\n",
    "if 'plus' in args.arch:\n",
    "    train_model.switch_repvggplus_to_deploy()\n",
    "    torch.save(train_model.state_dict(), args.save)\n",
    "else:\n",
    "    pass\n",
    "    train_model = repvgg_model_convert(train_model, save_path=args.save)\n",
    "    \n",
    "    \n",
    "test_input = torch.randn(1, 3, 32, 32)\n",
    "train_model(test_input)\n",
    "train_model = train_model.to(device)\n",
    "get_accuracy(train_model, val_loader)\n"
   ]
  },
  {
   "cell_type": "code",
   "execution_count": null,
   "metadata": {},
   "outputs": [],
   "source": [
    "summary(train_model, (3, 96, 96))"
   ]
  },
  {
   "cell_type": "code",
   "execution_count": null,
   "metadata": {},
   "outputs": [],
   "source": [
    "\n",
    "q_model = RepVGGWholeQuant(train_model, quantlayers='all')\n",
    "q_model.eval()\n",
    "q_model.prepare_quant()"
   ]
  },
  {
   "cell_type": "code",
   "execution_count": null,
   "metadata": {},
   "outputs": [],
   "source": [
    "\n",
    "test_input = torch.randn(1, 3, 96, 96).to(device)\n",
    "q_model.to(device)\n",
    "q_model(test_input)\n"
   ]
  },
  {
   "cell_type": "code",
   "execution_count": null,
   "metadata": {},
   "outputs": [],
   "source": [
    "q_model"
   ]
  },
  {
   "cell_type": "code",
   "execution_count": null,
   "metadata": {},
   "outputs": [],
   "source": [
    "\n",
    "\n",
    "qmodel = q_model.to(device)\n",
    "\n",
    "#Calibrate the model\n",
    "cnt = 0\n",
    "with torch.no_grad():\n",
    "  for img, label in val_loader:\n",
    "    img = img.to(device)\n",
    "    label = label.to(device)\n",
    "    if cnt > 10:\n",
    "        break\n",
    "    cnt += 1\n",
    "    qmodel(img)"
   ]
  },
  {
   "cell_type": "code",
   "execution_count": null,
   "metadata": {},
   "outputs": [],
   "source": [
    "get_accuracy(qmodel, val_loader)"
   ]
  },
  {
   "cell_type": "code",
   "execution_count": null,
   "metadata": {},
   "outputs": [],
   "source": [
    "qmodel"
   ]
  },
  {
   "cell_type": "code",
   "execution_count": null,
   "metadata": {},
   "outputs": [],
   "source": [
    "# qmodel = repvgg_model_convert(qmodel, save_path=None)"
   ]
  },
  {
   "cell_type": "code",
   "execution_count": null,
   "metadata": {},
   "outputs": [],
   "source": [
    "import matplotlib.pyplot as plt\n",
    "def get_quantized_range(bitwidth):\n",
    "    quantized_max = (1 << (bitwidth - 1)) - 1\n",
    "    quantized_min = -(1 << (bitwidth - 1))\n",
    "    return quantized_min, quantized_max\n",
    "def plot_weight_distribution(model, bitwidth=32):\n",
    "    # bins = (1 << bitwidth) if bitwidth <= 8 else 256\n",
    "    if bitwidth <= 8:\n",
    "        qmin, qmax = get_quantized_range(bitwidth)\n",
    "        bins = np.arange(qmin, qmax + 2)\n",
    "        align = 'left'\n",
    "    else:\n",
    "        bins = 256\n",
    "        align = 'mid'\n",
    "    fig, axes = plt.subplots(3,3, figsize=(10, 6))\n",
    "    axes = axes.ravel()\n",
    "    plot_index = 0\n",
    "    for name, param in model.named_parameters():\n",
    "        if param.dim() > 1:\n",
    "            ax = axes[plot_index]\n",
    "            ax.hist(param.detach().view(-1).cpu(), bins=bins, density=True, \n",
    "                    align=align, color = 'blue', alpha = 0.5,\n",
    "                    edgecolor='black' if bitwidth <= 4 else None)\n",
    "            if bitwidth <= 4:\n",
    "                quantized_min, quantized_max = get_quantized_range(bitwidth)\n",
    "                ax.set_xticks(np.arange(start=quantized_min, stop=quantized_max+1))\n",
    "            ax.set_xlabel(name)\n",
    "            ax.set_ylabel('density')\n",
    "            plot_index += 1\n",
    "    fig.suptitle(f'Histogram of Weights (bitwidth={bitwidth} bits)')\n",
    "    fig.tight_layout()\n",
    "    fig.subplots_adjust(top=0.925)\n",
    "    plt.show()"
   ]
  },
  {
   "cell_type": "code",
   "execution_count": null,
   "metadata": {},
   "outputs": [],
   "source": [
    "left = qmodel.stage0.rbr_reparam.weight_param.frac_bit.cpu().type(torch.int8)\n",
    "\n",
    "f_weight = qmodel.stage0.rbr_reparam.weight.detach().cpu().numpy()\n",
    "# plot_weight_distribution(qmodel, bitwidth=32) \n",
    "# sample_fweight = weight[0, :, :, :].detach().cpu().numpy().flatten()\n",
    "\n",
    "# i_weight = (qmodel.stage0.rbr_reparam.weight * torch.pow(2, left)).detach().cpu().numpy().astype(np.int8)\n",
    "sample_iweight = (qmodel.stage0.rbr_reparam.weight.detach().cpu().numpy())* (1 << left.cpu().numpy()).astype(np.int8)\n",
    "plt.hist(f_weight.flatten(), bins=256, density=True, color='red', alpha=0.5, edgecolor='black')\n",
    "plt.hist(sample_iweight.flatten(), bins=256, density=True, color='blue', alpha=0.5, edgecolor='black')\n",
    "\n",
    "# plot_weight_distribution(qmodel, bitwidth=8)\n"
   ]
  },
  {
   "cell_type": "code",
   "execution_count": null,
   "metadata": {},
   "outputs": [],
   "source": []
  }
 ],
 "metadata": {
  "kernelspec": {
   "display_name": "mcu",
   "language": "python",
   "name": "python3"
  },
  "language_info": {
   "codemirror_mode": {
    "name": "ipython",
    "version": 3
   },
   "file_extension": ".py",
   "mimetype": "text/x-python",
   "name": "python",
   "nbconvert_exporter": "python",
   "pygments_lexer": "ipython3",
   "version": "3.10.8"
  }
 },
 "nbformat": 4,
 "nbformat_minor": 2
}
